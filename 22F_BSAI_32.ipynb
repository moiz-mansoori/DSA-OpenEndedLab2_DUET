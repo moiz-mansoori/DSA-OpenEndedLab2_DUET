{
  "nbformat": 4,
  "nbformat_minor": 0,
  "metadata": {
    "colab": {
      "provenance": []
    },
    "kernelspec": {
      "name": "python3",
      "display_name": "Python 3"
    },
    "language_info": {
      "name": "python"
    }
  },
  "cells": [
    {
      "cell_type": "code",
      "source": [
        "def match_pattern(pattern, string):\n",
        "    # Split the input string into characters\n",
        "    words = string.split()\n",
        "\n",
        "    # If number doesn't match so code return false\n",
        "    if len(pattern) != len(words):\n",
        "        return False\n",
        "\n",
        "    # Creating dictionaries\n",
        "    CharToWord = {}\n",
        "    WordTochar = {}\n",
        "\n",
        "    for i in range(len(pattern)):\n",
        "        current_char = pattern[i]\n",
        "        current_word = words[i]\n",
        "\n",
        "        # Check if the character has already been mapped to a word\n",
        "        if current_char in CharToWord:\n",
        "\n",
        "            if CharToWord[current_char] != current_word:\n",
        "                return False\n",
        "        else:\n",
        "            # If it hasn't been mapped yet, create the mapping\n",
        "            CharToWord[current_char] = current_word\n",
        "\n",
        "        # Check if the word has already been mapped to a character\n",
        "        if current_word in WordTochar:\n",
        "            # If it has, but the mapping doesn't match, return False\n",
        "            if WordTochar[current_word] != current_char:\n",
        "                return False\n",
        "        else:\n",
        "            # If it hasn't been mapped yet, create the mapping\n",
        "            WordTochar[current_word] = current_char\n",
        "\n",
        "    return True\n",
        "\n",
        "if __name__ == \"__main__\":\n",
        "    result = match_pattern(\"anna\", \"moiz talha talha moiz\")\n",
        "    print(result)\n",
        "    result = match_pattern(\"baba\", \"hamza moiz hamza sami\")\n",
        "    print(result)"
      ],
      "metadata": {
        "colab": {
          "base_uri": "https://localhost:8080/"
        },
        "id": "_Emc1OA_wOEt",
        "outputId": "93cd4421-cf90-4b06-cac8-654be5f3dc38"
      },
      "execution_count": 28,
      "outputs": [
        {
          "output_type": "stream",
          "name": "stdout",
          "text": [
            "True\n",
            "False\n"
          ]
        }
      ]
    },
    {
      "cell_type": "code",
      "source": [],
      "metadata": {
        "id": "-TKrmlFrzQG7"
      },
      "execution_count": 10,
      "outputs": []
    },
    {
      "cell_type": "code",
      "source": [],
      "metadata": {
        "id": "fBRtP3fm1SgJ"
      },
      "execution_count": null,
      "outputs": []
    }
  ]
}